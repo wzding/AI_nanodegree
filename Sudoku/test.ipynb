{
 "cells": [
  {
   "cell_type": "code",
   "execution_count": 1,
   "metadata": {},
   "outputs": [
    {
     "name": "stderr",
     "output_type": "stream",
     "text": [
      "F..\n",
      "======================================================================\n",
      "FAIL: test_solve (__main__.TestDiagonalSudoku)\n",
      "----------------------------------------------------------------------\n",
      "Traceback (most recent call last):\n",
      "  File \"/Users/wding/Documents/github/AI_nanodegree/Sudoku/solution_test.py\", line 95, in test_solve\n",
      "    self.assertEqual(solution.solve(self.diagonal_grid), self.solved_diag_sudoku)\n",
      "AssertionError: None != {'G7': '8', 'G6': '9', 'G5': '7', 'G4': '[845 chars] '5'}\n",
      "\n",
      "----------------------------------------------------------------------\n",
      "Ran 3 tests in 0.003s\n",
      "\n",
      "FAILED (failures=1)\n"
     ]
    },
    {
     "ename": "SystemExit",
     "evalue": "True",
     "output_type": "error",
     "traceback": [
      "An exception has occurred, use %tb to see the full traceback.\n",
      "\u001b[0;31mSystemExit\u001b[0m\u001b[0;31m:\u001b[0m True\n"
     ]
    }
   ],
   "source": [
    "%run solution_test.py"
   ]
  },
  {
   "cell_type": "code",
   "execution_count": 6,
   "metadata": {},
   "outputs": [],
   "source": [
    "from solution_test import *\n",
    "from solution import *"
   ]
  },
  {
   "cell_type": "code",
   "execution_count": 5,
   "metadata": {},
   "outputs": [
    {
     "data": {
      "text/plain": [
       "'2.............62....1....7...6..8...3...9...7...6..4...4....8....52.............3'"
      ]
     },
     "execution_count": 5,
     "metadata": {},
     "output_type": "execute_result"
    }
   ],
   "source": [
    "tt = TestDiagonalSudoku()\n",
    "tt.diagonal_grid"
   ]
  },
  {
   "cell_type": "code",
   "execution_count": 9,
   "metadata": {},
   "outputs": [
    {
     "name": "stdout",
     "output_type": "stream",
     "text": [
      "    2     123456789 123456789 |123456789 123456789 123456789 |123456789 123456789 123456789 \n",
      "123456789 123456789 123456789 |123456789 123456789     6     |    2     123456789 123456789 \n",
      "123456789 123456789     1     |123456789 123456789 123456789 |123456789     7     123456789 \n",
      "------------------------------+------------------------------+------------------------------\n",
      "123456789 123456789     6     |123456789 123456789     8     |123456789 123456789 123456789 \n",
      "    3     123456789 123456789 |123456789     9     123456789 |123456789 123456789     7     \n",
      "123456789 123456789 123456789 |    6     123456789 123456789 |    4     123456789 123456789 \n",
      "------------------------------+------------------------------+------------------------------\n",
      "123456789     4     123456789 |123456789 123456789 123456789 |    8     123456789 123456789 \n",
      "123456789 123456789     5     |    2     123456789 123456789 |123456789 123456789 123456789 \n",
      "123456789 123456789 123456789 |123456789 123456789 123456789 |123456789 123456789     3     \n"
     ]
    }
   ],
   "source": [
    "display(grid_values(tt.diagonal_grid))"
   ]
  },
  {
   "cell_type": "code",
   "execution_count": 10,
   "metadata": {},
   "outputs": [
    {
     "name": "stdout",
     "output_type": "stream",
     "text": [
      "2 6 7 |9 4 5 |3 8 1 \n",
      "8 5 3 |7 1 6 |2 4 9 \n",
      "4 9 1 |8 2 3 |5 7 6 \n",
      "------+------+------\n",
      "5 7 6 |4 3 8 |1 9 2 \n",
      "3 8 4 |1 9 2 |6 5 7 \n",
      "1 2 9 |6 5 7 |4 3 8 \n",
      "------+------+------\n",
      "6 4 2 |3 7 9 |8 1 5 \n",
      "9 3 5 |2 8 1 |7 6 4 \n",
      "7 1 8 |5 6 4 |9 2 3 \n"
     ]
    }
   ],
   "source": [
    "display(tt.solved_diag_sudoku)"
   ]
  },
  {
   "cell_type": "markdown",
   "metadata": {},
   "source": [
    "### misunderstood the peers of naked twin, should be same col or row rather than all of its peers"
   ]
  },
  {
   "cell_type": "code",
   "execution_count": 150,
   "metadata": {
    "collapsed": true
   },
   "outputs": [],
   "source": [
    "def naked_twins_old(values):\n",
    "    dict_unit = dict( (key, values[key] ) for key in values if len(values[key]) == 2)\n",
    "    dict_value = dict( (i,[j for j in dict_unit if dict_unit[j] ==i]) for i in set(dict_unit.values()))\n",
    "    \n",
    "    for v in dict_value:  # v is a list\n",
    "        length = len(dict_value[v])\n",
    "        if length > 1:\n",
    "            i = 0 ; j = i+1 \n",
    "            while i < length and j < length:\n",
    "                peer_count = 0\n",
    "                peer_union = set(peers[dict_value[v][i]])\n",
    "                while j < length:\n",
    "                    if dict_value[v][j] in peer_union:\n",
    "                        peer_count += 1\n",
    "                        peer_union.remove(dict_value[v][j])\n",
    "                        peer_union = peer_union.union(peers[dict_value[v][j]])\n",
    "                        if dict_value[v][i] in peer_union:\n",
    "                            peer_union.remove(dict_value[v][i])\n",
    "                    j += 1\n",
    "                if peer_count == length - 1:\n",
    "                    # elimination 2 values for the possibilities of the unit in peer_count \n",
    "                    for p in peer_union:\n",
    "                        for v1 in v:\n",
    "                            if v1 in values[p]:\n",
    "                                values[p] = values[p].replace(v1, \"\")\n",
    "                    return values\n",
    "                elif peer_count > 0:\n",
    "                    # eliminate and continue \n",
    "                    for p in peer_union:\n",
    "                        for v1 in v:\n",
    "                            if v1 in values[p]:\n",
    "                                values[p] = values[p].replace(v1, \"\")\n",
    "                    i += 1; j = i+1\n",
    "                else:\n",
    "                    i += 1; j = i+1\n",
    "    return values"
   ]
  },
  {
   "cell_type": "code",
   "execution_count": null,
   "metadata": {
    "collapsed": true
   },
   "outputs": [],
   "source": []
  }
 ],
 "metadata": {
  "kernelspec": {
   "display_name": "Python 3",
   "language": "python",
   "name": "python3"
  },
  "language_info": {
   "codemirror_mode": {
    "name": "ipython",
    "version": 3
   },
   "file_extension": ".py",
   "mimetype": "text/x-python",
   "name": "python",
   "nbconvert_exporter": "python",
   "pygments_lexer": "ipython3",
   "version": "3.6.1"
  }
 },
 "nbformat": 4,
 "nbformat_minor": 2
}
