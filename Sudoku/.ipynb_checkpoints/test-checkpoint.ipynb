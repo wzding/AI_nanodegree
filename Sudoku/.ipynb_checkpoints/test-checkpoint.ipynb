{
 "cells": [
  {
   "cell_type": "code",
   "execution_count": 1,
   "metadata": {},
   "outputs": [
    {
     "name": "stderr",
     "output_type": "stream",
     "text": [
      "FFF"
     ]
    },
    {
     "name": "stdout",
     "output_type": "stream",
     "text": [
      "    2     123456789 123456789 |123456789 123456789 123456789 |123456789 123456789 123456789 \n",
      "123456789 123456789 123456789 |123456789 123456789     6     |    2     123456789 123456789 \n",
      "123456789 123456789     1     |123456789 123456789 123456789 |123456789     7     123456789 \n",
      "------------------------------+------------------------------+------------------------------\n",
      "123456789 123456789     6     |123456789 123456789     8     |123456789 123456789 123456789 \n",
      "    3     123456789 123456789 |123456789     9     123456789 |123456789 123456789     7     \n",
      "123456789 123456789 123456789 |    6     123456789 123456789 |    4     123456789 123456789 \n",
      "------------------------------+------------------------------+------------------------------\n",
      "123456789     4     123456789 |123456789 123456789 123456789 |    8     123456789 123456789 \n",
      "123456789 123456789     5     |    2     123456789 123456789 |123456789 123456789 123456789 \n",
      "123456789 123456789 123456789 |123456789 123456789 123456789 |123456789 123456789     3     \n",
      "..................after..................\n",
      "2 3 9 |8 7 4 |1 5 6 \n",
      "7 5 4 |3 1 6 |2 9 8 \n",
      "6 8 1 |9 5 2 |3 7 4 \n",
      "------+------+------\n",
      "4 7 6 |1 2 8 |5 3 9 \n",
      "3 1 2 |4 9 5 |6 8 7 \n",
      "5 9 8 |6 3 7 |4 1 2 \n",
      "------+------+------\n",
      "1 4 3 |7 6 9 |8 2 5 \n",
      "9 6 5 |2 8 3 |7 4 1 \n",
      "8 2 7 |5 4 1 |9 6 3 \n"
     ]
    },
    {
     "name": "stderr",
     "output_type": "stream",
     "text": [
      "\n",
      "======================================================================\n",
      "FAIL: test_solve (__main__.TestDiagonalSudoku)\n",
      "----------------------------------------------------------------------\n",
      "Traceback (most recent call last):\n",
      "  File \"/Users/wding/Documents/github/AI_nanodegree/Sudoku/solution_test.py\", line 95, in test_solve\n",
      "    self.assertEqual(solution.solve(self.diagonal_grid), self.solved_diag_sudoku)\n",
      "AssertionError: {'A1': '2', 'A2': '3', 'A3': '9', 'A4': '8'[843 chars] '3'} != {'G7': '8', 'G6': '9', 'G5': '7', 'G4': '3'[843 chars] '5'}\n",
      "Diff is 3214 characters long. Set self.maxDiff to None to see it.\n",
      "\n",
      "======================================================================\n",
      "FAIL: test_naked_twins (__main__.TestNakedTwins)\n",
      "----------------------------------------------------------------------\n",
      "Traceback (most recent call last):\n",
      "  File \"/Users/wding/Documents/github/AI_nanodegree/Sudoku/solution_test.py\", line 72, in test_naked_twins\n",
      "    \"Your naked_twins function produced an unexpected board.\")\n",
      "AssertionError: False is not true : Your naked_twins function produced an unexpected board.\n",
      "\n",
      "======================================================================\n",
      "FAIL: test_naked_twins2 (__main__.TestNakedTwins)\n",
      "----------------------------------------------------------------------\n",
      "Traceback (most recent call last):\n",
      "  File \"/Users/wding/Documents/github/AI_nanodegree/Sudoku/solution_test.py\", line 76, in test_naked_twins2\n",
      "    \"Your naked_twins function produced an unexpected board.\")\n",
      "AssertionError: False is not true : Your naked_twins function produced an unexpected board.\n",
      "\n",
      "----------------------------------------------------------------------\n",
      "Ran 3 tests in 0.035s\n",
      "\n",
      "FAILED (failures=3)\n"
     ]
    },
    {
     "ename": "SystemExit",
     "evalue": "True",
     "output_type": "error",
     "traceback": [
      "An exception has occurred, use %tb to see the full traceback.\n",
      "\u001b[0;31mSystemExit\u001b[0m\u001b[0;31m:\u001b[0m True\n"
     ]
    }
   ],
   "source": [
    "%run solution_test.py"
   ]
  },
  {
   "cell_type": "code",
   "execution_count": 34,
   "metadata": {
    "collapsed": true
   },
   "outputs": [],
   "source": [
    "from solution import *"
   ]
  },
  {
   "cell_type": "code",
   "execution_count": 53,
   "metadata": {
    "collapsed": true
   },
   "outputs": [],
   "source": [
    "values_test = {'I6': '4', 'H9': '3', 'I2': '6', 'E8': '1', 'H3': '5', 'H7': '8', 'I7': '1', 'I4': '8',\n",
    "                            'H5': '6', 'F9': '7', 'G7': '6', 'G6': '3', 'G5': '2', 'E1': '8', 'G3': '1', 'G2': '8',\n",
    "                            'G1': '7', 'I1': '23', 'C8': '5', 'I3': '23', 'E5': '347', 'I5': '5', 'C9': '1', 'G9': '5',\n",
    "                            'G8': '4', 'A1': '1', 'A3': '4', 'A2': '237', 'A5': '9', 'A4': '2357', 'A7': '27',\n",
    "                            'A6': '257', 'C3': '8', 'C2': '237', 'C1': '23', 'E6': '579', 'C7': '9', 'C6': '6',\n",
    "                            'C5': '37', 'C4': '4', 'I9': '9', 'D8': '8', 'I8': '7', 'E4': '6', 'D9': '6', 'H8': '2',\n",
    "                            'F6': '125', 'A9': '8', 'G4': '9', 'A8': '6', 'E7': '345', 'E3': '379', 'F1': '6',\n",
    "                            'F2': '4', 'F3': '23', 'F4': '1235', 'F5': '8', 'E2': '37', 'F7': '35', 'F8': '9',\n",
    "                            'D2': '1', 'H1': '4', 'H6': '17', 'H2': '9', 'H4': '17', 'D3': '2379', 'B4': '27',\n",
    "                            'B5': '1', 'B6': '8', 'B7': '27', 'E9': '2', 'B1': '9', 'B2': '5', 'B3': '6', 'D6': '279',\n",
    "                            'D7': '34', 'D4': '237', 'D5': '347', 'B8': '3', 'B9': '4', 'D1': '5'}"
   ]
  },
  {
   "cell_type": "code",
   "execution_count": 54,
   "metadata": {},
   "outputs": [
    {
     "name": "stdout",
     "output_type": "stream",
     "text": [
      "  1   237   4  | 2357  9   257 |  27   6    8  \n",
      "  9    5    6  |  27   1    8  |  27   3    4  \n",
      "  23  237   8  |  4    37   6  |  9    5    1  \n",
      "---------------+---------------+---------------\n",
      "  5    1   2379| 237  347  279 |  34   8    6  \n",
      "  8    37  379 |  6   347  579 | 345   1    2  \n",
      "  6    4    23 | 1235  8   125 |  35   9    7  \n",
      "---------------+---------------+---------------\n",
      "  7    8    1  |  9    2    3  |  6    4    5  \n",
      "  4    9    5  |  17   6    17 |  8    2    3  \n",
      "  23   6    23 |  8    5    4  |  1    7    9  \n"
     ]
    }
   ],
   "source": [
    "display(values_test)"
   ]
  },
  {
   "cell_type": "code",
   "execution_count": 64,
   "metadata": {},
   "outputs": [
    {
     "name": "stdout",
     "output_type": "stream",
     "text": [
      "A7 27\n",
      "A7 B7\n",
      "{'A1', 'A6', 'A7', 'E7', 'H7', 'A9', 'A8', 'C9', 'B8', 'B9', 'F7', 'A4', 'G7', 'D7', 'B6', 'B4', 'I7', 'B2', 'B1', 'B3', 'A3', 'B7', 'B5', 'A5', 'C7', 'A2', 'C8'}\n",
      "B4 27\n",
      "B4 B7\n"
     ]
    },
    {
     "ename": "ValueError",
     "evalue": "list.remove(x): x not in list",
     "output_type": "error",
     "traceback": [
      "\u001b[0;31m---------------------------------------------------------------------------\u001b[0m",
      "\u001b[0;31mValueError\u001b[0m                                Traceback (most recent call last)",
      "\u001b[0;32m<ipython-input-64-5b0946ce39c5>\u001b[0m in \u001b[0;36m<module>\u001b[0;34m()\u001b[0m\n\u001b[1;32m     10\u001b[0m                 \u001b[0mprint\u001b[0m\u001b[0;34m(\u001b[0m\u001b[0mv\u001b[0m\u001b[0;34m,\u001b[0m\u001b[0mp\u001b[0m\u001b[0;34m)\u001b[0m\u001b[0;34m\u001b[0m\u001b[0m\n\u001b[1;32m     11\u001b[0m                 \u001b[0mbx\u001b[0m\u001b[0;34m.\u001b[0m\u001b[0mremove\u001b[0m\u001b[0;34m(\u001b[0m\u001b[0mv\u001b[0m\u001b[0;34m)\u001b[0m\u001b[0;34m\u001b[0m\u001b[0m\n\u001b[0;32m---> 12\u001b[0;31m                 \u001b[0mbx\u001b[0m\u001b[0;34m.\u001b[0m\u001b[0mremove\u001b[0m\u001b[0;34m(\u001b[0m\u001b[0mp\u001b[0m\u001b[0;34m)\u001b[0m\u001b[0;34m\u001b[0m\u001b[0m\n\u001b[0m\u001b[1;32m     13\u001b[0m \u001b[0;34m\u001b[0m\u001b[0m\n\u001b[1;32m     14\u001b[0m                 \u001b[0mtwin_peer\u001b[0m \u001b[0;34m=\u001b[0m \u001b[0mset\u001b[0m\u001b[0;34m(\u001b[0m\u001b[0mpeers\u001b[0m\u001b[0;34m[\u001b[0m\u001b[0mv\u001b[0m\u001b[0;34m]\u001b[0m\u001b[0;34m)\u001b[0m\u001b[0;34m.\u001b[0m\u001b[0munion\u001b[0m\u001b[0;34m(\u001b[0m\u001b[0mset\u001b[0m\u001b[0;34m(\u001b[0m\u001b[0mpeers\u001b[0m\u001b[0;34m[\u001b[0m\u001b[0mp\u001b[0m\u001b[0;34m]\u001b[0m\u001b[0;34m)\u001b[0m\u001b[0;34m)\u001b[0m\u001b[0;34m\u001b[0m\u001b[0m\n",
      "\u001b[0;31mValueError\u001b[0m: list.remove(x): x not in list"
     ]
    }
   ],
   "source": [
    "bx = boxes.copy()\n",
    "# Find all instances of naked twins\n",
    "# print(len(bx))\n",
    "for v in bx:\n",
    "    temp = values_test[v]\n",
    "    if len(temp) == 2:\n",
    "        print(v, temp)\n",
    "        for p in peers[v]:\n",
    "            if values_test[p] == temp:\n",
    "                print(v,p)\n",
    "                bx.remove(v)\n",
    "                bx.remove(p)\n",
    "\n",
    "                twin_peer = set(peers[v]).union(set(peers[p]))\n",
    "                print(twin_peer)\n",
    "                # Eliminate the naked twins as possibilities for their peers\n",
    "                if twin_peer:\n",
    "                    for i in twin_peer:\n",
    "                        if len(values_test[i]) > 1:\n",
    "                            for t in twin:\n",
    "                                if t in values_test[i]:\n",
    "                                    values_test[i] = values_test[i].replace(t, \"\")\n",
    "\n",
    "                                    break"
   ]
  },
  {
   "cell_type": "code",
   "execution_count": 78,
   "metadata": {},
   "outputs": [],
   "source": [
    "dict_2_unit = dict( (key, values_test[key] ) for key in values_test if len(values_test[key]) == 2)"
   ]
  },
  {
   "cell_type": "code",
   "execution_count": 84,
   "metadata": {},
   "outputs": [],
   "source": [
    "dict_2_value = dict( (i,[j for j in value_2 if value_2[j] ==i]) for i in set(value_2.values()))"
   ]
  },
  {
   "cell_type": "code",
   "execution_count": 85,
   "metadata": {},
   "outputs": [
    {
     "data": {
      "text/plain": [
       "{'17': ['H6', 'H4'],\n",
       " '23': ['I1', 'I3', 'C1', 'F3'],\n",
       " '27': ['A7', 'B4', 'B7'],\n",
       " '34': ['D7'],\n",
       " '35': ['F7'],\n",
       " '37': ['C5', 'E2']}"
      ]
     },
     "execution_count": 85,
     "metadata": {},
     "output_type": "execute_result"
    }
   ],
   "source": [
    "dict_2_value"
   ]
  },
  {
   "cell_type": "code",
   "execution_count": 89,
   "metadata": {
    "collapsed": true
   },
   "outputs": [
    {
     "data": {
      "text/plain": [
       "{'A2',\n",
       " 'A3',\n",
       " 'A4',\n",
       " 'A5',\n",
       " 'A6',\n",
       " 'A7',\n",
       " 'A8',\n",
       " 'A9',\n",
       " 'B1',\n",
       " 'B2',\n",
       " 'B3',\n",
       " 'C1',\n",
       " 'C2',\n",
       " 'C3',\n",
       " 'D1',\n",
       " 'E1',\n",
       " 'F1',\n",
       " 'G1',\n",
       " 'H1',\n",
       " 'I1'}"
      ]
     },
     "execution_count": 89,
     "metadata": {},
     "output_type": "execute_result"
    }
   ],
   "source": [
    "peers[\"A1\"]"
   ]
  },
  {
   "cell_type": "code",
   "execution_count": 96,
   "metadata": {},
   "outputs": [
    {
     "name": "stdout",
     "output_type": "stream",
     "text": [
      "H6\n",
      "H4\n",
      "{'H3', 'E6', 'H2', 'I5', 'A6', 'E4', 'C4', 'H7', 'H6', 'H1', 'I6', 'D6', 'G4', 'A4', 'H8', 'G5', 'F4', 'C6', 'H5', 'G6', 'B6', 'B4', 'D4', 'I4', 'H9', 'H4', 'F6'}\n",
      "A7\n",
      "B4\n",
      "B7\n",
      "{'C5', 'E4', 'A6', 'C4', 'B9', 'F7', 'F4', 'C6', 'D7', 'B4', 'B3', 'B7', 'I4', 'C7', 'A1', 'A7', 'E7', 'H7', 'A9', 'A8', 'C9', 'B8', 'G4', 'A4', 'G7', 'B6', 'I7', 'B2', 'D4', 'B1', 'A3', 'B5', 'A5', 'A2', 'H4', 'C8'}\n",
      "C5\n",
      "E2\n",
      "{'E6', 'H2', 'C1', 'I5', 'A6', 'C4', 'E4', 'E7', 'E9', 'C9', 'D2', 'A4', 'G5', 'C3', 'C2', 'C6', 'D1', 'D5', 'E5', 'D3', 'H5', 'E8', 'B6', 'B4', 'B2', 'F2', 'F5', 'E3', 'E1', 'B5', 'A5', 'C7', 'G2', 'A2', 'F1', 'F3', 'C8', 'I2'}\n",
      "I1\n",
      "I3\n",
      "C1\n",
      "F3\n",
      "{'H3', 'H2', 'C1', 'C5', 'C4', 'H1', 'F8', 'D2', 'F7', 'E2', 'F4', 'C6', 'I8', 'E3', 'B3', 'I4', 'C7', 'G2', 'G1', 'F3', 'I2', 'A1', 'I5', 'G3', 'I6', 'C9', 'I1', 'C3', 'C2', 'D1', 'D3', 'F9', 'I7', 'B2', 'F2', 'F5', 'B1', 'A3', 'I3', 'E1', 'A2', 'I9', 'F1', 'F6', 'C8'}\n"
     ]
    }
   ],
   "source": [
    "for v in dict_2_value:\n",
    "    if len(dict_2_value[v]) > 1:\n",
    "        peer_union = set()\n",
    "        for u in dict_2_value[v]:\n",
    "            print(u)\n",
    "            peer_union = peer_union.union(peers[u])\n",
    "        print(peer_union)"
   ]
  },
  {
   "cell_type": "code",
   "execution_count": 92,
   "metadata": {},
   "outputs": [
    {
     "data": {
      "text/plain": [
       "set()"
      ]
     },
     "execution_count": 92,
     "metadata": {},
     "output_type": "execute_result"
    }
   ],
   "source": [
    "peer_union"
   ]
  },
  {
   "cell_type": "code",
   "execution_count": 70,
   "metadata": {},
   "outputs": [
    {
     "data": {
      "text/plain": [
       "['I1', 'I3', 'A7', 'C1', 'C5', 'F3', 'E2', 'F7', 'H6', 'H4', 'B4', 'B7', 'D7']"
      ]
     },
     "execution_count": 70,
     "metadata": {},
     "output_type": "execute_result"
    }
   ],
   "source": [
    "dict((s, [u for u in unitlist if s in u]) for s in boxes)"
   ]
  }
 ],
 "metadata": {
  "kernelspec": {
   "display_name": "Python 3",
   "language": "python",
   "name": "python3"
  },
  "language_info": {
   "codemirror_mode": {
    "name": "ipython",
    "version": 3
   },
   "file_extension": ".py",
   "mimetype": "text/x-python",
   "name": "python",
   "nbconvert_exporter": "python",
   "pygments_lexer": "ipython3",
   "version": "3.6.1"
  }
 },
 "nbformat": 4,
 "nbformat_minor": 2
}
